{
 "cells": [
  {
   "cell_type": "code",
   "execution_count": 9,
   "id": "b7f0a8d0-7046-4e31-b822-56c9a7800a46",
   "metadata": {},
   "outputs": [],
   "source": [
    "import random\n"
   ]
  },
  {
   "cell_type": "code",
   "execution_count": 5,
   "id": "128f7191-b5c3-4300-aa5a-4e16d9bea46a",
   "metadata": {},
   "outputs": [],
   "source": [
    "def choose_word():\n",
    "    words=[\"apple\",\"orange\",\"banana\",\"strawberry\",\"grape\"]\n",
    "    return random.choice(words)"
   ]
  },
  {
   "cell_type": "code",
   "execution_count": 19,
   "id": "bbc36e2c-13f7-4a05-b01f-87072d693aac",
   "metadata": {},
   "outputs": [],
   "source": [
    "def get_input():\n",
    "    while True:\n",
    "        guess=input(\"Guess a letter:\").lower()\n",
    "        if(len(guess)!=1):\n",
    "            print(\"invalid input\")\n",
    "        else:\n",
    "            return guess"
   ]
  },
  {
   "cell_type": "code",
   "execution_count": 13,
   "id": "0e94ee2c-7b6e-4069-8afb-db964cde1077",
   "metadata": {},
   "outputs": [],
   "source": [
    "def display_word(word,guessed_letters):\n",
    "    display=[]\n",
    "    for letter in word:\n",
    "        if letter in guessed_letters:\n",
    "            display.append(letter)\n",
    "        else:\n",
    "            display.append(\"_\")\n",
    "    return \" \".join(display)\n",
    "     "
   ]
  },
  {
   "cell_type": "code",
   "execution_count": 23,
   "id": "3e092919-c732-4e78-b37f-a804c1d434b7",
   "metadata": {},
   "outputs": [],
   "source": [
    "def play_hangman():\n",
    "    word=choose_word()\n",
    "    guessed_letters=set()\n",
    "    attempts=6\n",
    "    print(\"welcome to hangman\")\n",
    "    print(\"you have 6 attempts\")\n",
    "    while(attempts>0):\n",
    "        print(display_word(word,guessed_letters))\n",
    "        print(f\"attempts left:{attempts}\")\n",
    "        guess=get_input()\n",
    "        if guess in guessed_letters:\n",
    "            print(\"you already guessed the letter\")\n",
    "        elif guess in word:\n",
    "            guessed_letters.add(guess)\n",
    "            if set(word)==guessed_letters:\n",
    "                print(\"you guessed the word\")\n",
    "                return\n",
    "        else:\n",
    "            guessed_letters.add(guess)\n",
    "            attempts-=1\n",
    "    print(\"You ran out of attempts. The word was:\",word)"
   ]
  },
  {
   "cell_type": "code",
   "execution_count": 31,
   "id": "a3e0ec47-1447-42c0-be76-088c9e749795",
   "metadata": {},
   "outputs": [
    {
     "name": "stdout",
     "output_type": "stream",
     "text": [
      "welcome to hangman\n",
      "you have 6 attempts\n",
      "_ _ _ _ _ _\n",
      "attempts left:6\n"
     ]
    },
    {
     "name": "stdin",
     "output_type": "stream",
     "text": [
      "Guess a letter: b\n"
     ]
    },
    {
     "name": "stdout",
     "output_type": "stream",
     "text": [
      "b _ _ _ _ _\n",
      "attempts left:6\n"
     ]
    },
    {
     "name": "stdin",
     "output_type": "stream",
     "text": [
      "Guess a letter: a\n"
     ]
    },
    {
     "name": "stdout",
     "output_type": "stream",
     "text": [
      "b a _ a _ a\n",
      "attempts left:6\n"
     ]
    },
    {
     "name": "stdin",
     "output_type": "stream",
     "text": [
      "Guess a letter: n\n"
     ]
    },
    {
     "name": "stdout",
     "output_type": "stream",
     "text": [
      "you guessed the word\n"
     ]
    }
   ],
   "source": [
    "if __name__==\"__main__\":\n",
    "    play_hangman()"
   ]
  },
  {
   "cell_type": "code",
   "execution_count": null,
   "id": "e207633c-e7cf-4f5b-8c65-3df914432a15",
   "metadata": {},
   "outputs": [],
   "source": []
  }
 ],
 "metadata": {
  "kernelspec": {
   "display_name": "Python 3 (ipykernel)",
   "language": "python",
   "name": "python3"
  },
  "language_info": {
   "codemirror_mode": {
    "name": "ipython",
    "version": 3
   },
   "file_extension": ".py",
   "mimetype": "text/x-python",
   "name": "python",
   "nbconvert_exporter": "python",
   "pygments_lexer": "ipython3",
   "version": "3.12.4"
  }
 },
 "nbformat": 4,
 "nbformat_minor": 5
}
