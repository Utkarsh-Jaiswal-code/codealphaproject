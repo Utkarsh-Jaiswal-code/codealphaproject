{
 "cells": [
  {
   "cell_type": "code",
   "execution_count": 1,
   "id": "b283f8b4-1bff-463e-b34f-25cf81578b8a",
   "metadata": {},
   "outputs": [],
   "source": [
    "import os\n",
    "import shutil"
   ]
  },
  {
   "cell_type": "code",
   "execution_count": 3,
   "id": "15351da2-ff5e-4f00-8a47-a72abdb27196",
   "metadata": {},
   "outputs": [],
   "source": [
    "def organize_files(directory):\n",
    "  \"\"\"Organizes files in a directory based on their extensions.\n",
    "\n",
    "  Args:\n",
    "    directory: The directory to organize.\n",
    "  \"\"\"\n",
    "\n",
    "  extensions = {}\n",
    "  for filename in os.listdir(directory):\n",
    "    extension = filename.split('.')[-1]\n",
    "    if extension not in extensions:\n",
    "      extensions[extension] = []\n",
    "    extensions[extension].append(filename)\n",
    "\n",
    "  for extension, files in extensions.items():\n",
    "    folder_name = extension.upper()\n",
    "    folder_path = os.path.join(directory, folder_name)\n",
    "    os.makedirs(folder_path, exist_ok=True)\n",
    "    for file in files:\n",
    "      source_path = os.path.join(directory, file)\n",
    "      destination_path = os.path.join(folder_path, file)\n",
    "      shutil.move(source_path, destination_path)"
   ]
  },
  {
   "cell_type": "code",
   "execution_count": 10,
   "id": "af8dd5c8-bfa8-499b-8a03-274526ea64ed",
   "metadata": {},
   "outputs": [
    {
     "ename": "FileNotFoundError",
     "evalue": "[WinError 3] The system cannot find the path specified: 'OneDrive/Desktop/files_uj/Codealphaproject'",
     "output_type": "error",
     "traceback": [
      "\u001b[1;31m---------------------------------------------------------------------------\u001b[0m",
      "\u001b[1;31mFileNotFoundError\u001b[0m                         Traceback (most recent call last)",
      "Cell \u001b[1;32mIn[10], line 3\u001b[0m\n\u001b[0;32m      1\u001b[0m \u001b[38;5;28;01mif\u001b[39;00m \u001b[38;5;18m__name__\u001b[39m \u001b[38;5;241m==\u001b[39m \u001b[38;5;124m\"\u001b[39m\u001b[38;5;124m__main__\u001b[39m\u001b[38;5;124m\"\u001b[39m:\n\u001b[0;32m      2\u001b[0m   directory_to_organize \u001b[38;5;241m=\u001b[39m \u001b[38;5;124m\"\u001b[39m\u001b[38;5;124mOneDrive/Desktop/files_uj/Codealphaproject\u001b[39m\u001b[38;5;124m\"\u001b[39m\n\u001b[1;32m----> 3\u001b[0m   organize_files(directory_to_organize)\n",
      "Cell \u001b[1;32mIn[3], line 9\u001b[0m, in \u001b[0;36morganize_files\u001b[1;34m(directory)\u001b[0m\n\u001b[0;32m      2\u001b[0m \u001b[38;5;250m\u001b[39m\u001b[38;5;124;03m\"\"\"Organizes files in a directory based on their extensions.\u001b[39;00m\n\u001b[0;32m      3\u001b[0m \n\u001b[0;32m      4\u001b[0m \u001b[38;5;124;03mArgs:\u001b[39;00m\n\u001b[0;32m      5\u001b[0m \u001b[38;5;124;03m  directory: The directory to organize.\u001b[39;00m\n\u001b[0;32m      6\u001b[0m \u001b[38;5;124;03m\"\"\"\u001b[39;00m\n\u001b[0;32m      8\u001b[0m extensions \u001b[38;5;241m=\u001b[39m {}\n\u001b[1;32m----> 9\u001b[0m \u001b[38;5;28;01mfor\u001b[39;00m filename \u001b[38;5;129;01min\u001b[39;00m os\u001b[38;5;241m.\u001b[39mlistdir(directory):\n\u001b[0;32m     10\u001b[0m   extension \u001b[38;5;241m=\u001b[39m filename\u001b[38;5;241m.\u001b[39msplit(\u001b[38;5;124m'\u001b[39m\u001b[38;5;124m.\u001b[39m\u001b[38;5;124m'\u001b[39m)[\u001b[38;5;241m-\u001b[39m\u001b[38;5;241m1\u001b[39m]\n\u001b[0;32m     11\u001b[0m   \u001b[38;5;28;01mif\u001b[39;00m extension \u001b[38;5;129;01mnot\u001b[39;00m \u001b[38;5;129;01min\u001b[39;00m extensions:\n",
      "\u001b[1;31mFileNotFoundError\u001b[0m: [WinError 3] The system cannot find the path specified: 'OneDrive/Desktop/files_uj/Codealphaproject'"
     ]
    }
   ],
   "source": [
    "if __name__ == \"__main__\":\n",
    "  directory_to_organize = \"OneDrive/Desktop/files_uj/Codealphaproject\"\n",
    "  organize_files(directory_to_organize)"
   ]
  },
  {
   "cell_type": "code",
   "execution_count": null,
   "id": "0dfe8f2a-bb14-4e22-b4e6-46f93a9e0573",
   "metadata": {},
   "outputs": [],
   "source": []
  },
  {
   "cell_type": "code",
   "execution_count": null,
   "id": "cda537c7-4099-4f2e-b845-bef22604faf6",
   "metadata": {},
   "outputs": [],
   "source": []
  }
 ],
 "metadata": {
  "kernelspec": {
   "display_name": "Python 3 (ipykernel)",
   "language": "python",
   "name": "python3"
  },
  "language_info": {
   "codemirror_mode": {
    "name": "ipython",
    "version": 3
   },
   "file_extension": ".py",
   "mimetype": "text/x-python",
   "name": "python",
   "nbconvert_exporter": "python",
   "pygments_lexer": "ipython3",
   "version": "3.12.4"
  }
 },
 "nbformat": 4,
 "nbformat_minor": 5
}
