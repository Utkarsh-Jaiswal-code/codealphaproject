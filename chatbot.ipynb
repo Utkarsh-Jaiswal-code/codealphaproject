{
 "cells": [
  {
   "cell_type": "code",
   "execution_count": 7,
   "id": "58bb14f6-1533-4249-89d6-f3a4814ae16f",
   "metadata": {},
   "outputs": [],
   "source": [
    "import nltk\n",
    "from nltk.chat.util import Chat, reflections"
   ]
  },
  {
   "cell_type": "code",
   "execution_count": 9,
   "id": "e591aca3-1372-49b5-ac92-efcd38e0a421",
   "metadata": {},
   "outputs": [],
   "source": [
    "pairs = [\n",
    "    [\n",
    "        r\"my name is (.*)\",\n",
    "        [\"Hello %1, How can I help you today?\"]\n",
    "    ],\n",
    "    [\n",
    "        r\"what is your name ?\",\n",
    "        [\"I am a chatbot. You can call me AI\"]\n",
    "    ],\n",
    "    [\n",
    "        r\"how can I help you ?\",\n",
    "        [\"I can help you with various tasks.\"]\n",
    "    ],\n",
    "    [\n",
    "        r\"what is the weather in (.*)?\",\n",
    "        [\"The Weather in %1 is sunny\"]\n",
    "    ],\n",
    "    [\n",
    "        r\"exit\",\n",
    "        [\"Goodbye\"]\n",
    "    ]\n",
    "]"
   ]
  },
  {
   "cell_type": "code",
   "execution_count": 11,
   "id": "d45692c0-0f88-4f53-86d4-8319771ac372",
   "metadata": {},
   "outputs": [],
   "source": [
    "def chatbot():\n",
    "    print(\"Hi, I'm AI, your friendly chatbot. How can I help you today?\")\n",
    "    chat = Chat(pairs, reflections)\n",
    "    chat.converse()"
   ]
  },
  {
   "cell_type": "code",
   "execution_count": null,
   "id": "a7fd86fd-7a3d-4fba-ad19-086d44da0778",
   "metadata": {},
   "outputs": [
    {
     "name": "stdout",
     "output_type": "stream",
     "text": [
      "Hi, I'm AI, your friendly chatbot. How can I help you today?\n"
     ]
    },
    {
     "name": "stdin",
     "output_type": "stream",
     "text": [
      "> hello\n"
     ]
    },
    {
     "name": "stdout",
     "output_type": "stream",
     "text": [
      "None\n"
     ]
    }
   ],
   "source": [
    "if __name__ == \"__main__\":\n",
    "    chatbot()"
   ]
  },
  {
   "cell_type": "code",
   "execution_count": null,
   "id": "5cc81829-a9f5-4917-8326-7d770c9b7a7c",
   "metadata": {},
   "outputs": [],
   "source": []
  }
 ],
 "metadata": {
  "kernelspec": {
   "display_name": "Python 3 (ipykernel)",
   "language": "python",
   "name": "python3"
  },
  "language_info": {
   "codemirror_mode": {
    "name": "ipython",
    "version": 3
   },
   "file_extension": ".py",
   "mimetype": "text/x-python",
   "name": "python",
   "nbconvert_exporter": "python",
   "pygments_lexer": "ipython3",
   "version": "3.12.4"
  }
 },
 "nbformat": 4,
 "nbformat_minor": 5
}
